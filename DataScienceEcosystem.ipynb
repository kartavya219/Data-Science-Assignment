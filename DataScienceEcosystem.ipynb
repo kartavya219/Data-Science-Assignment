{
 "cells": [
  {
   "cell_type": "markdown",
   "id": "b1837f9d-7845-48fe-86c0-6c7a5cfb83c9",
   "metadata": {},
   "source": [
    "<H1>Data Science Tools and Ecosystem</H1>"
   ]
  },
  {
   "cell_type": "markdown",
   "id": "03edb599-74a3-4181-a406-09f23145d454",
   "metadata": {},
   "source": [
    "In this notebook, Data Science Tools and Ecosystem are summarized."
   ]
  },
  {
   "cell_type": "markdown",
   "id": "8eb6c2af-2629-4eee-acbb-57934c5802f6",
   "metadata": {},
   "source": [
    "<b>Objectives:</b>\n",
    "<ul>\n",
    "    <li>List popular languages for Data Science</li>\n",
    "    <li>List popular libraries for Data Science</li>\n",
    "    <li>Some open sourse Data Science tools</li>\n",
    "</ul>"
   ]
  },
  {
   "cell_type": "markdown",
   "id": "eb8be1df-e237-4026-8874-49815de4fa34",
   "metadata": {},
   "source": [
    "Some of the popular languages that Data Scientists use are:<ol>\n",
    "     <li>Python</li>\n",
    "     <li>R</li>\n",
    "     <li>Julia</li>\n",
    "     <li>SQL</li>\n",
    "     <li>Java</li>\n",
    "</ol>"
   ]
  },
  {
   "cell_type": "markdown",
   "id": "74c7d05b-584c-44ae-b7b3-741532458a2d",
   "metadata": {},
   "source": [
    "Some of the commonly used libraries used by Data Scientists include:\n",
    "<ol>\n",
    "    <li>Numpy</li>\n",
    "    <li>Pandas</li>\n",
    "    <li>Seaborn</li>\n",
    "    <li>Matplotlib</li>\n",
    "    <li>Scikit-learn</li>\n",
    "</ol>"
   ]
  },
  {
   "cell_type": "markdown",
   "id": "3e318a12-f557-4f3e-a3f9-6e44e3523efc",
   "metadata": {},
   "source": [
    "<table>\n",
    "    <tr>\n",
    "        <th>Data Science Tools</th>\n",
    "    </tr>\n",
    "     <tr>\n",
    "        <td>Pytorch</td>\n",
    "    </tr>\n",
    "     <tr>\n",
    "        <td>Jupyter Notebooks</td>\n",
    "    </tr>\n",
    "     <tr>\n",
    "        <td>R Studio</td>\n",
    "    </tr>\n",
    "</table>"
   ]
  },
  {
   "cell_type": "markdown",
   "id": "3acf0e16-3a76-47ea-816c-da86c69c28bd",
   "metadata": {},
   "source": [
    "<h3>Below are a few examples of evaluating arithmetic expressions in Python</h3>"
   ]
  },
  {
   "cell_type": "code",
   "execution_count": 1,
   "id": "ebebeed7-a7b0-460e-a1c7-57bf47217554",
   "metadata": {},
   "outputs": [
    {
     "data": {
      "text/plain": [
       "17"
      ]
     },
     "execution_count": 1,
     "metadata": {},
     "output_type": "execute_result"
    }
   ],
   "source": [
    "# This a simple arithmetic expression to mutiply then add integers\n",
    "(3*4)+5"
   ]
  },
  {
   "cell_type": "code",
   "execution_count": 4,
   "id": "44446d16-17da-422c-8139-a62ff74875a9",
   "metadata": {},
   "outputs": [
    {
     "data": {
      "text/plain": [
       "3.3333333333333335"
      ]
     },
     "execution_count": 4,
     "metadata": {},
     "output_type": "execute_result"
    }
   ],
   "source": [
    "# This will convert 200 minutes to hours by diving by 60\n",
    "200/60"
   ]
  },
  {
   "cell_type": "markdown",
   "id": "c7ed7392-3383-4f84-bba0-d7370bf45efb",
   "metadata": {},
   "source": [
    "<h2>Author</h2>\n",
    "Kartavya Bansal"
   ]
  }
 ],
 "metadata": {
  "kernelspec": {
   "display_name": "Python 3 (ipykernel)",
   "language": "python",
   "name": "python3"
  },
  "language_info": {
   "codemirror_mode": {
    "name": "ipython",
    "version": 3
   },
   "file_extension": ".py",
   "mimetype": "text/x-python",
   "name": "python",
   "nbconvert_exporter": "python",
   "pygments_lexer": "ipython3",
   "version": "3.12.4"
  }
 },
 "nbformat": 4,
 "nbformat_minor": 5
}
